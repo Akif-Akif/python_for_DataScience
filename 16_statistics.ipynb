{
 "cells": [
  {
   "cell_type": "markdown",
   "metadata": {},
   "source": [
    "# **Class_16**\n",
    " \n",
    "## _**Basics Statistics for Data Science**_\n",
    "\n",
    "> Outline\n",
    "\n",
    "- Descriptive Statistics\n",
    "- Data Visualization\n",
    "- Probability Distribution\n",
    "- Hypothesis Testing \n",
    "- Regression Analysis"
   ]
  },
  {
   "cell_type": "markdown",
   "metadata": {},
   "source": [
    "### **Statistics?**\n",
    "A collection of methods for collecting displaying, analyzing,\n",
    " and drawing conclusions from data."
   ]
  },
  {
   "cell_type": "markdown",
   "metadata": {},
   "source": [
    "###  **Statistics Is everywhere:**\n",
    "\n",
    "#### Language of Statistics \n",
    "- Average income in Pakistan     (Average)\n",
    "- Highest score in cricket match (Maximum)\n",
    "- Fastest Bowler                 (Maximum)\n",
    "- Sub se km rum khaye            (Minimum)\n",
    "- 40% Teachers in Pakistan are female(Percentage)\n",
    "- Kal Barish ho gi ya nahi ho gi (Likelihood)\n",
    "- Dollar kabhi uper jata hai kbhi neechy (Varience)\n",
    "- Hostel mein larky zada kharcha krty hyn Larkiyoon ki Nasbat (t-test)\n",
    "- fasialabad> Lahore> Karachi> Sargodha> Islamabad Jugton (Jokes) ki rating(Anova-Test)\n",
    "\n",
    "\n",
    "Johns Hopkins University, ne covid ka data published kya tha 29 apr 2021 (BBC ki report se lya gya data)\n",
    "  "
   ]
  },
  {
   "cell_type": "markdown",
   "metadata": {},
   "source": [
    "> ## Types Of Data\n",
    "                       1 Cross Sectional \n",
    "                Data collected at one point \n",
    "                for example: 14 Augest kis kis ne manai\n",
    "                   \n",
    "                       2 Time Series\n",
    "                data collected over different time  points\n",
    "                 for example: 2020 se ly kr 2022 tk corona cases in Pakistan\n",
    "                   \n",
    "                       3 Univariate \n",
    "                Data contains a single variable to measure entity\n",
    "                 e.g: Plant  Height and irrigation time\n",
    "\n",
    "                       4 Multi Variate \n",
    "                Data contains > 2 variables to measure something \n",
    "                 e.g:1 plant Height \n",
    "                     2 fertilizer amount \n",
    "                     3 irrigation time       \n",
    "\n",
    "\n",
    "\n",
    "                       \n",
    "                        "
   ]
  },
  {
   "cell_type": "markdown",
   "metadata": {},
   "source": [
    "> ## Variables Types 1 \n",
    "                        Categorical (Nominal)\n",
    "                        Binomial [true,false][yes, no] msln Breakfast kya k ni ? \n",
    "                        {No Quantitative Relationship is given}\n",
    "                        \n",
    "                        Multinomial [Travel Choices]\n",
    "\n",
    "> ## Variables Types 2\n",
    "                         Categorical (Nominal)\n",
    "                        Ordinal Variable\n",
    "                        Data ranked or ordered\n",
    "                   Mere pass kitny mobile hyn?    \n",
    "\n",
    "\n",
    " > ## Variables Types 3\n",
    "\n",
    "                         Ratio Data\n",
    "\n",
    "                         Data have a natural zero \n",
    "                         Aj zada mall bika kall ki nasbat \n",
    "                         any economic data.\n",
    "Measurement in unit and ratios are  **Continue Variable** \n",
    "                   \n",
    "\n",
    "\n",
    " > ## Variables Types 4\n",
    "\n",
    "                         Interval \n",
    "                    Ordered and characterized data\n",
    "                         eg. is june mein garmi zada hy: 2023 k june ki nisbat\n",
    "                         (ratio are meaningless  (50 degree is not double hot of 25 degree))\n",
    "\n",
    "                         Differences are meaningful"
   ]
  },
  {
   "cell_type": "markdown",
   "metadata": {},
   "source": [
    "### __**Measure of Central Tendency**__\n",
    "    Mean Median and \n",
    "\n",
    "\n",
    "![imagenotation.png](imagenotation.png)\n"
   ]
  },
  {
   "cell_type": "markdown",
   "metadata": {},
   "source": [
    "### __**Measure of Dispersion**__\n",
    "\n",
    "Standard Deviation, Standard error, Variability, Scatter, Spread, variance and covariance\n"
   ]
  }
 ],
 "metadata": {
  "kernelspec": {
   "display_name": "Python 3",
   "language": "python",
   "name": "python3"
  },
  "language_info": {
   "codemirror_mode": {
    "name": "ipython",
    "version": 3
   },
   "file_extension": ".py",
   "mimetype": "text/x-python",
   "name": "python",
   "nbconvert_exporter": "python",
   "pygments_lexer": "ipython3",
   "version": "3.11.5"
  }
 },
 "nbformat": 4,
 "nbformat_minor": 2
}
