{
 "cells": [
  {
   "attachments": {},
   "cell_type": "markdown",
   "metadata": {},
   "source": [
    "# **Advance Markdown**"
   ]
  },
  {
   "attachments": {},
   "cell_type": "markdown",
   "metadata": {},
   "source": [
    "Git-Fork ?\n",
    "it is like a github.\n",
    "\n",
    "<span style= \"color:#FF33F9\">\n",
    " Akif\n",
    "</span>\n",
    "\n",
    "You can add your own choice color from \"Hexcode color picker\""
   ]
  },
  {
   "attachments": {},
   "cell_type": "markdown",
   "metadata": {},
   "source": [
    "## Adding An equation in MD\n",
    "\n",
    "in line math \n",
    "\n",
    "$this_{is}^{inline}$\n",
    "\n",
    "#### Math block\n",
    "\n",
    "$$\n",
    "\\int_0^\\infty \\frac{x^9}{e^x-3}\\,dx\n",
    "= \\frac{\\pi^4}{12}\n",
    "$$\n",
    "\n",
    "You can get your own choice equations from 'MathJax'\n",
    "\n"
   ]
  },
  {
   "cell_type": "code",
   "execution_count": null,
   "metadata": {},
   "outputs": [],
   "source": []
  }
 ],
 "metadata": {
  "language_info": {
   "name": "python"
  },
  "orig_nbformat": 4
 },
 "nbformat": 4,
 "nbformat_minor": 2
}
