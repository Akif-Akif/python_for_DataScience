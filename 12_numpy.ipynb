{
 "cells": [
  {
   "attachments": {},
   "cell_type": "markdown",
   "metadata": {},
   "source": [
    "# **Class_12**"
   ]
  },
  {
   "attachments": {},
   "cell_type": "markdown",
   "metadata": {},
   "source": [
    "![](images.jpg)"
   ]
  },
  {
   "attachments": {},
   "cell_type": "markdown",
   "metadata": {},
   "source": [
    "### **introduction**\n",
    "\n",
    "- NumPy is a Python library used for working with arrays.\n",
    "- It also has functions for working in domain of linear algebra,\n",
    "  fourier transform, and matrices.\n",
    "-NumPy was created in 2005 by Travis Oliphant. It is an open source project and you can use it freely.\n",
    "- NumPy stands for Numerical Python.\n",
    "- linear algebra library - typically 'Intel MKL' or 'OpenBLAS' already exist in numpy (jin ki base py \n",
    "numpy library bni hai )\n"
   ]
  },
  {
   "attachments": {},
   "cell_type": "markdown",
   "metadata": {},
   "source": [
    "### **Why Use NumPy?**\n",
    "- In Python we have lists that serve the purpose of arrays, but they are slow to process.\n",
    "  NumPy aims to provide an array object that is up to 50x faster than traditional Python lists.\n",
    "  The array object in NumPy is called ndarray, it provides a lot of supporting functions that make working with ndarray very easy.\n",
    "  Arrays are very frequently used in data science, where speed and resources are very important.\n"
   ]
  },
  {
   "attachments": {},
   "cell_type": "markdown",
   "metadata": {},
   "source": [
    "### **How to install NumPy in vsCode?**\n",
    "To install Numpy run this command \"pip install numpy\" in terminal window of VsCode.\n",
    "Not in OutPut window.\n",
    "*NumPy is already installed Jupyter Notebook.*"
   ]
  },
  {
   "cell_type": "code",
   "execution_count": null,
   "metadata": {},
   "outputs": [],
   "source": []
  }
 ],
 "metadata": {
  "kernelspec": {
   "display_name": "py_env",
   "language": "python",
   "name": "python3"
  },
  "language_info": {
   "name": "python",
   "version": "3.11.5"
  },
  "orig_nbformat": 4
 },
 "nbformat": 4,
 "nbformat_minor": 2
}
