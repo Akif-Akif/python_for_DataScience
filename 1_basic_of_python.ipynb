{
 "cells": [
  {
   "attachments": {},
   "cell_type": "markdown",
   "metadata": {},
   "source": [
    "# **Class_01**\n",
    "> ## *Print Function* & Mathematical Operators:\n",
    "\n"
   ]
  },
  {
   "cell_type": "code",
   "execution_count": 25,
   "metadata": {},
   "outputs": [
    {
     "name": "stdout",
     "output_type": "stream",
     "text": [
      "7\n"
     ]
    }
   ],
   "source": [
    "# Addition\n",
    "print(2+5)"
   ]
  },
  {
   "cell_type": "code",
   "execution_count": 4,
   "metadata": {},
   "outputs": [
    {
     "name": "stdout",
     "output_type": "stream",
     "text": [
      "50\n"
     ]
    }
   ],
   "source": [
    "# Substraction\n",
    "print(58-8)"
   ]
  },
  {
   "cell_type": "code",
   "execution_count": 6,
   "metadata": {},
   "outputs": [
    {
     "name": "stdout",
     "output_type": "stream",
     "text": [
      "12\n"
     ]
    }
   ],
   "source": [
    "#  Multiplicatin\n",
    "print(2*6)"
   ]
  },
  {
   "attachments": {},
   "cell_type": "markdown",
   "metadata": {},
   "source": [
    "- **Division**:- \n",
    "\n",
    "if you want to result in float value then use to single / \n"
   ]
  },
  {
   "cell_type": "code",
   "execution_count": 7,
   "metadata": {},
   "outputs": [
    {
     "name": "stdout",
     "output_type": "stream",
     "text": [
      "13.5\n"
     ]
    }
   ],
   "source": [
    "print(54/4)"
   ]
  },
  {
   "attachments": {},
   "cell_type": "markdown",
   "metadata": {},
   "source": [
    "- **Division**:-\n",
    " \n",
    "if you want to result in integer or whole Numbers or value then use to double // \n"
   ]
  },
  {
   "cell_type": "code",
   "execution_count": null,
   "metadata": {},
   "outputs": [],
   "source": []
  },
  {
   "cell_type": "code",
   "execution_count": 14,
   "metadata": {},
   "outputs": [
    {
     "name": "stdout",
     "output_type": "stream",
     "text": [
      "13\n"
     ]
    }
   ],
   "source": [
    "print(54//4)"
   ]
  },
  {
   "cell_type": "code",
   "execution_count": 16,
   "metadata": {},
   "outputs": [
    {
     "name": "stdout",
     "output_type": "stream",
     "text": [
      "81\n",
      "729\n"
     ]
    }
   ],
   "source": [
    "# Exponant or Power Values:\n",
    "print(9**2)\n",
    "print(9**3)\n"
   ]
  },
  {
   "attachments": {},
   "cell_type": "markdown",
   "metadata": {},
   "source": [
    "- ### **PEMDAS**\n",
    "\n",
    "    Parenthesis Exponent Multiply Divide Addition and Substraction \n",
    "    \n",
    "    Left to Right for M D & A S\n"
   ]
  },
  {
   "cell_type": "code",
   "execution_count": 18,
   "metadata": {},
   "outputs": [
    {
     "name": "stdout",
     "output_type": "stream",
     "text": [
      "24.0\n"
     ]
    }
   ],
   "source": [
    "# Result will be show in float value because using single /\n",
    "print((3**2)/2*6+5-8)"
   ]
  },
  {
   "cell_type": "code",
   "execution_count": 24,
   "metadata": {},
   "outputs": [
    {
     "name": "stdout",
     "output_type": "stream",
     "text": [
      "21\n"
     ]
    }
   ],
   "source": [
    "# Result will be show in Integer or whole Number because using Double //\n",
    "print((3**2)//2*6+5-8)"
   ]
  },
  {
   "attachments": {},
   "cell_type": "markdown",
   "metadata": {},
   "source": [
    "> ## Strings :"
   ]
  },
  {
   "cell_type": "code",
   "execution_count": 27,
   "metadata": {},
   "outputs": [
    {
     "name": "stdout",
     "output_type": "stream",
     "text": [
      "Hello, Akif !\n"
     ]
    }
   ],
   "source": [
    "# With  Single quotes\n",
    "print('Hello, Akif !')"
   ]
  },
  {
   "cell_type": "code",
   "execution_count": 1,
   "metadata": {},
   "outputs": [
    {
     "name": "stdout",
     "output_type": "stream",
     "text": [
      "We are learning with Baba ji\n"
     ]
    }
   ],
   "source": [
    "# With  Double quotes\n",
    "print(\"We are learning with Baba ji\")"
   ]
  },
  {
   "cell_type": "code",
   "execution_count": 3,
   "metadata": {},
   "outputs": [
    {
     "name": "stdout",
     "output_type": "stream",
     "text": [
      "I love data Science\n"
     ]
    }
   ],
   "source": [
    "# with Tripple quotes\n",
    "print('''I love data Science''')"
   ]
  },
  {
   "cell_type": "code",
   "execution_count": 5,
   "metadata": {},
   "outputs": [
    {
     "name": "stdout",
     "output_type": "stream",
     "text": [
      "What's up\n"
     ]
    }
   ],
   "source": [
    "# If you use apostrophe (')sign then you will use Double quotes\n",
    "# agr ap string k byhr spaces use krty hain to koi impect nahi phry ga spaces  string k andar use se impect phry ga \n",
    "print(\"What's up\")"
   ]
  },
  {
   "attachments": {},
   "cell_type": "markdown",
   "metadata": {},
   "source": [
    "> ## Comments :\n",
    "\n",
    "  Shortcut key for comment out  ----> control+/\n",
    "\n",
    "  \n",
    "comment out ka mtlb jis ko hm comment out kr dein gy wo line of code run nahi ho gi"
   ]
  },
  {
   "cell_type": "code",
   "execution_count": 13,
   "metadata": {},
   "outputs": [
    {
     "name": "stdout",
     "output_type": "stream",
     "text": [
      "Pakistan World cup jeety ga ?\n"
     ]
    }
   ],
   "source": [
    "print(\"Pakistan World cup jeety ga ?\")\n",
    "# print(2023)"
   ]
  },
  {
   "attachments": {},
   "cell_type": "markdown",
   "metadata": {},
   "source": [
    "> ## Variables :\n",
    "- Objects containing specific values "
   ]
  },
  {
   "cell_type": "code",
   "execution_count": 21,
   "metadata": {},
   "outputs": [
    {
     "name": "stdout",
     "output_type": "stream",
     "text": [
      "60\n",
      " Data Science is a broad field\n"
     ]
    }
   ],
   "source": [
    "x = 50 #Here is X is a integer Variable \n",
    "x = x+10 \n",
    "print(x)\n",
    "y = \" Data Science is a broad field\" # Here is Y is a string Variable\n",
    "print(y)"
   ]
  },
  {
   "cell_type": "code",
   "execution_count": 30,
   "metadata": {},
   "outputs": [
    {
     "name": "stdout",
     "output_type": "stream",
     "text": [
      "15.5\n"
     ]
    }
   ],
   "source": [
    "a = 11/2\n",
    "z = a+10\n",
    "print(z)"
   ]
  },
  {
   "attachments": {},
   "cell_type": "markdown",
   "metadata": {},
   "source": [
    "- ### Types or Class of Variables "
   ]
  },
  {
   "cell_type": "code",
   "execution_count": 33,
   "metadata": {},
   "outputs": [
    {
     "name": "stdout",
     "output_type": "stream",
     "text": [
      "<class 'int'>\n",
      "<class 'str'>\n"
     ]
    }
   ],
   "source": [
    "type(x)\n",
    "print(type(x))\n",
    "type(y)\n",
    "print(type(y))\n"
   ]
  },
  {
   "attachments": {},
   "cell_type": "markdown",
   "metadata": {},
   "source": [
    "- #### Rules To Assign a variables:-\n",
    "\n",
    "1: The variables should contain letters, numberes and underscores.\n",
    "\n",
    "2: Do not start with numbers \n",
    "\n",
    "3: Spaces are not allowed\n",
    "\n",
    "4: Do not use keyword used in function (break, mean, median and test etc.....) \n",
    " \n",
    "5: Short & Descriptive\n",
    " \n",
    "6: Case senstivity (lowercase, Uppercase Letters : lowercase letters should be used) "
   ]
  },
  {
   "cell_type": "code",
   "execution_count": 42,
   "metadata": {},
   "outputs": [
    {
     "name": "stdout",
     "output_type": "stream",
     "text": [
      "apple\n",
      "<class 'str'>\n"
     ]
    }
   ],
   "source": [
    "fruit_basket = \"Apple, Oranges, Banana\" # Here is fruit_basket is a variable \n",
    "fruit_basket = 10\n",
    "fruit_basket = \"apple\"\n",
    "# del fruit_basket (del ka function use krny sy oper wala object delete ho jyga)\n",
    "print(fruit_basket)\n",
    "type(fruit_basket)\n",
    "print(type(fruit_basket))"
   ]
  },
  {
   "attachments": {},
   "cell_type": "markdown",
   "metadata": {},
   "source": [
    "> ## Input Variables or Function :\n"
   ]
  },
  {
   "attachments": {},
   "cell_type": "markdown",
   "metadata": {},
   "source": [
    "#### Simple input function"
   ]
  },
  {
   "cell_type": "code",
   "execution_count": 44,
   "metadata": {},
   "outputs": [
    {
     "name": "stdout",
     "output_type": "stream",
     "text": [
      "apple\n"
     ]
    }
   ],
   "source": [
    "fruit_basket=input(\"what is your favourite fruit? \")\n",
    "print(fruit_basket)"
   ]
  },
  {
   "cell_type": "code",
   "execution_count": 52,
   "metadata": {},
   "outputs": [
    {
     "name": "stdout",
     "output_type": "stream",
     "text": [
      "Your own choice \n",
      "<class 'str'>\n",
      "dark black\n"
     ]
    }
   ],
   "source": [
    "color= \"Your own choice \"\n",
    "print(color)\n",
    "type(color)\n",
    "print(type(color))\n",
    "\n",
    "color=input(\"Which is your favourite color ?\")\n",
    "print(color)"
   ]
  },
  {
   "attachments": {},
   "cell_type": "markdown",
   "metadata": {},
   "source": [
    "#### Second input function"
   ]
  },
  {
   "cell_type": "code",
   "execution_count": 57,
   "metadata": {},
   "outputs": [
    {
     "name": "stdout",
     "output_type": "stream",
     "text": [
      "Hi! what is your name?\n"
     ]
    }
   ],
   "source": [
    "name= \"what is your name?\"\n",
    "greetings = \"Hi!\"\n",
    "print(greetings, name) "
   ]
  },
  {
   "cell_type": "code",
   "execution_count": 60,
   "metadata": {},
   "outputs": [
    {
     "name": "stdout",
     "output_type": "stream",
     "text": [
      "Hello ! what is your name?\n"
     ]
    }
   ],
   "source": [
    "# try another way\n",
    "name= \"what is your name?\"\n",
    "print(\"Hello !\",  name)\n"
   ]
  },
  {
   "attachments": {},
   "cell_type": "markdown",
   "metadata": {},
   "source": [
    "#### Third input function"
   ]
  },
  {
   "cell_type": "code",
   "execution_count": 63,
   "metadata": {},
   "outputs": [
    {
     "name": "stdout",
     "output_type": "stream",
     "text": [
      "Hello ! Akif ,Your still young\n"
     ]
    }
   ],
   "source": [
    "greetings= \"Hello !\"\n",
    "name=input(\"What is your name?\")\n",
    "age= input(\"How old are you? \")\n",
    "print(greetings, name, \",Your still young\")\n",
    "\n"
   ]
  },
  {
   "attachments": {},
   "cell_type": "markdown",
   "metadata": {},
   "source": [
    "> ## Conditional Logical Operators :\n",
    "\n",
    "- Logical Operators are \"True or False\", \"Yes or No\", \"0 or 1\" \n",
    "\n",
    "Equal to -------------------- ==\n",
    "\n",
    " Not equal to ----------------!= \n",
    " \n",
    " Less than ------------------- < \n",
    " \n",
    " Greater than ----------------->\n",
    " \n",
    "  Less than or equal to -------<=\n",
    "  \n",
    "   Greater than or equal to ---->=\n",
    "\n",
    "   * How to apply conditional operators in python \n",
    "\n"
   ]
  },
  {
   "cell_type": "code",
   "execution_count": 73,
   "metadata": {},
   "outputs": [
    {
     "name": "stdout",
     "output_type": "stream",
     "text": [
      "True\n",
      "False\n",
      "True\n",
      "False\n",
      "True\n",
      "False\n"
     ]
    }
   ],
   "source": [
    "print(4==4)\n",
    "print(4!=4)\n",
    "print(2<4)\n",
    "print(5<=4)\n",
    "print(5>4)\n",
    "print(5>=10)\n"
   ]
  },
  {
   "cell_type": "code",
   "execution_count": 2,
   "metadata": {},
   "outputs": [
    {
     "name": "stdout",
     "output_type": "stream",
     "text": [
      "True\n"
     ]
    }
   ],
   "source": [
    "# Application of logical operators\n",
    "ali_age = 4\n",
    "age_at_school = 4\n",
    "print(ali_age==age_at_school)"
   ]
  },
  {
   "cell_type": "code",
   "execution_count": 3,
   "metadata": {},
   "outputs": [
    {
     "name": "stdout",
     "output_type": "stream",
     "text": [
      "False\n"
     ]
    }
   ],
   "source": [
    "# Application of logical operators\n",
    "ali_age = 4\n",
    "age_at_school = 5\n",
    "print(ali_age==age_at_school)"
   ]
  },
  {
   "cell_type": "code",
   "execution_count": 13,
   "metadata": {},
   "outputs": [
    {
     "name": "stdout",
     "output_type": "stream",
     "text": [
      "<class 'str'>\n",
      "False\n"
     ]
    }
   ],
   "source": [
    "# input function and logical operators\n",
    "age_at_school = 5\n",
    "ali_age = input(\"How old is Ali? \") # input function \n",
    "print(type(ali_age))\n",
    "print(ali_age==age_at_school) # logical operatr"
   ]
  },
  {
   "attachments": {},
   "cell_type": "markdown",
   "metadata": {},
   "source": [
    "> Note:- Oper waly code mein ali ki age input krty hain to  answer false e ata hai bcaz k ali_age ki class srting hai "
   ]
  },
  {
   "cell_type": "code",
   "execution_count": 15,
   "metadata": {},
   "outputs": [
    {
     "name": "stdout",
     "output_type": "stream",
     "text": [
      "<class 'int'>\n",
      "True\n"
     ]
    }
   ],
   "source": [
    "age_at_school = 5\n",
    "ali_age = input(\"How old is Ali? \") # input function \n",
    "ali_age= int(ali_age)\n",
    "print(type(ali_age))\n",
    "print(ali_age==age_at_school) # logical operatr "
   ]
  },
  {
   "attachments": {},
   "cell_type": "markdown",
   "metadata": {},
   "source": [
    "> Note:- Oper wala code mein ali_age ki class concvert ki hai int mein to ab jb ali_age(5) == age_at_school(5) krty hain to output true dyta hai pehly class string thi ab int hai  "
   ]
  },
  {
   "attachments": {},
   "cell_type": "markdown",
   "metadata": {},
   "source": [
    "> ## Data Type Conversion :"
   ]
  },
  {
   "cell_type": "code",
   "execution_count": 12,
   "metadata": {},
   "outputs": [
    {
     "name": "stdout",
     "output_type": "stream",
     "text": [
      "<class 'int'>\n",
      "124.39999999999999\n"
     ]
    }
   ],
   "source": [
    "# Implicit type conversion (implicit ka mtlb hota hai k androni tor pr / ya * ya + kr k changing krna )\n",
    "x = 10 # integer\n",
    "y = 12.44 # float\n",
    "z = \"Hello\" # string\n",
    "print(type(x))\n",
    "x = x * y\n",
    "print(x)\n",
    "\n"
   ]
  },
  {
   "attachments": {},
   "cell_type": "markdown",
   "metadata": {},
   "source": [
    "> Note:- that is mean k jb bhi kisi integer ko float value k 7 [*, +,-, /] krein to answer float value mein e aye ga \n"
   ]
  },
  {
   "cell_type": "code",
   "execution_count": 26,
   "metadata": {},
   "outputs": [
    {
     "name": "stdout",
     "output_type": "stream",
     "text": [
      "7 <class 'int'>\n"
     ]
    }
   ],
   "source": [
    "# explicit type conversion\n",
    "age = input(\"What is your age?\")\n",
    "# age = int(age)        #first way\n",
    "# print(age)\n",
    "print(age, type(int(age))) # second way"
   ]
  },
  {
   "attachments": {},
   "cell_type": "markdown",
   "metadata": {},
   "source": [
    " > ## If_else_elif :"
   ]
  },
  {
   "cell_type": "code",
   "execution_count": 61,
   "metadata": {},
   "outputs": [
    {
     "name": "stdout",
     "output_type": "stream",
     "text": [
      "Ali is still a baby, he should play with the Gulli Danda\n"
     ]
    }
   ],
   "source": [
    "\n",
    "# Question: Can Ali join the school?\n",
    "ali_age= 4\n",
    "age_at_school=5 \n",
    "ali_age= input(\"How old is Ali? \")\n",
    "ali_age= int (ali_age)\n",
    "if ali_age==age_at_school:\n",
    "    print(\"Ali can join the school\")\n",
    "elif ali_age > age_at_school:\n",
    "    print(\"Ali should join the college\")\n",
    "elif ali_age == 2:\n",
    "    print(\"Ali is still a baby, he should play with the Gulli Danda\")\n",
    "else:\n",
    "    print(\"Ali can not join the school.\")\n"
   ]
  },
  {
   "attachments": {},
   "cell_type": "markdown",
   "metadata": {},
   "source": [
    " > ## Function :\n",
    "\n",
    " - Function ka mtlb hai jo bhi cheez ap aik maqsad k iye likhein wo ap ko as a output mein mil jaye."
   ]
  },
  {
   "cell_type": "code",
   "execution_count": 63,
   "metadata": {},
   "outputs": [
    {
     "name": "stdout",
     "output_type": "stream",
     "text": [
      "Pyhton course with Akif   \n",
      "Pyhton course with Akif   \n",
      "Pyhton course with Akif   \n"
     ]
    }
   ],
   "source": [
    "# 1 method\n",
    "def print_python():\n",
    "    print(\"Pyhton course with Akif   \")\n",
    "    print(\"Pyhton course with Akif   \")\n",
    "    print(\"Pyhton course with Akif   \")\n",
    "print_python()\n"
   ]
  },
  {
   "cell_type": "code",
   "execution_count": 71,
   "metadata": {},
   "outputs": [
    {
     "name": "stdout",
     "output_type": "stream",
     "text": [
      " Pyhton With Data Science \n",
      " Pyhton With Data Science \n",
      " Pyhton With Data Science \n",
      " Pyhton With Data Science \n",
      " Pyhton With Data Science \n"
     ]
    }
   ],
   "source": [
    "# 2 method\n",
    "def print_python():\n",
    " text = \" Pyhton With Data Science \"\n",
    " print(text)\n",
    " print(text)\n",
    " print(text)\n",
    " print(text)\n",
    " print(text)\n",
    "\n",
    "print_python()"
   ]
  },
  {
   "cell_type": "code",
   "execution_count": 70,
   "metadata": {},
   "outputs": [
    {
     "name": "stdout",
     "output_type": "stream",
     "text": [
      "We are going to USA\n",
      "We are going to USA\n",
      "We are going to USA\n",
      "We are going to USA\n",
      "We are going to USA\n",
      "We are going to USA\n",
      "We are going to USA\n",
      "We are going to USA\n"
     ]
    }
   ],
   "source": [
    "# 3 method\n",
    "def print_python (text):\n",
    "    print(text)\n",
    "    print(text)\n",
    "    print(text)\n",
    "    print(text)\n",
    "    print(text)\n",
    "    print(text)\n",
    "    print(text)\n",
    "    print(text)\n",
    "\n",
    "print_python(\"We are going to USA\")"
   ]
  },
  {
   "attachments": {},
   "cell_type": "markdown",
   "metadata": {},
   "source": [
    "- A School Calculator"
   ]
  },
  {
   "cell_type": "code",
   "execution_count": 126,
   "metadata": {},
   "outputs": [
    {
     "name": "stdout",
     "output_type": "stream",
     "text": [
      "Ali is still a baby and he should play with toys !\n"
     ]
    }
   ],
   "source": [
    "def school_select_stu(age):\n",
    "    age = input (\"How old is Ali\")\n",
    "    age = int (age)\n",
    "    if age ==5:\n",
    "        print(\"Ali can join the school \")\n",
    "    elif age > 5:\n",
    "        print(\"Ali should join the higher secondary school \")\n",
    "    else:\n",
    "        print(\"Ali is still a baby and he should play with toys !\")\n",
    "school_select_stu(5)\n"
   ]
  },
  {
   "cell_type": "code",
   "execution_count": 135,
   "metadata": {},
   "outputs": [
    {
     "name": "stdout",
     "output_type": "stream",
     "text": [
      "46\n"
     ]
    }
   ],
   "source": [
    "# Defining  a function of future age\n",
    "def future_age(age):\n",
    "    new_age= age+12\n",
    "    return new_age\n",
    "    print(new_age)\n",
    "future_predicted_age = future_age(34)\n",
    "print(future_predicted_age)"
   ]
  },
  {
   "attachments": {},
   "cell_type": "markdown",
   "metadata": {},
   "source": [
    " > ## Loops :"
   ]
  },
  {
   "attachments": {},
   "cell_type": "markdown",
   "metadata": {},
   "source": [
    "- While Loop"
   ]
  },
  {
   "cell_type": "code",
   "execution_count": 1,
   "metadata": {},
   "outputs": [
    {
     "name": "stdout",
     "output_type": "stream",
     "text": [
      "0\n",
      "1\n",
      "2\n",
      "3\n",
      "4\n",
      "5\n"
     ]
    }
   ],
   "source": [
    "x=0\n",
    "while (x<=5):\n",
    "    print(x) \n",
    "    x=x+1"
   ]
  },
  {
   "attachments": {},
   "cell_type": "markdown",
   "metadata": {},
   "source": [
    "- For loop"
   ]
  },
  {
   "cell_type": "code",
   "execution_count": 4,
   "metadata": {},
   "outputs": [
    {
     "name": "stdout",
     "output_type": "stream",
     "text": [
      "1\n",
      "2\n",
      "3\n",
      "4\n",
      "5\n",
      "6\n",
      "7\n",
      "8\n",
      "9\n",
      "10\n"
     ]
    }
   ],
   "source": [
    "for x in range(1,11):\n",
    "    print(x)"
   ]
  },
  {
   "cell_type": "code",
   "execution_count": 8,
   "metadata": {},
   "outputs": [
    {
     "name": "stdout",
     "output_type": "stream",
     "text": [
      "mon\n",
      "tue\n",
      "wed\n",
      "thus\n",
      "fri\n",
      "sat\n",
      "sun\n"
     ]
    }
   ],
   "source": [
    "# For loop use in a program\n",
    "# array(array is a data set)\n",
    "days = [\"mon\", \"tue\", \"wed\", \"thus\", \"fri\", \"sat\", \"sun\"]\n",
    "for d in days:\n",
    "    print(d)\n",
    "    # if (d==\"fri\"): break # Stop loop\n",
    "    if (d == \"fri\"): continue # continue loop"
   ]
  },
  {
   "attachments": {},
   "cell_type": "markdown",
   "metadata": {},
   "source": [
    " > ## Import Libraries :"
   ]
  },
  {
   "cell_type": "code",
   "execution_count": 9,
   "metadata": {},
   "outputs": [
    {
     "name": "stdout",
     "output_type": "stream",
     "text": [
      "The value of pi is:  3.141592653589793\n"
     ]
    }
   ],
   "source": [
    "# If you want to print the value of pi\n",
    "import math\n",
    "print(\"The value of pi is: \", math.pi)\n"
   ]
  },
  {
   "cell_type": "code",
   "execution_count": 10,
   "metadata": {},
   "outputs": [
    {
     "name": "stdout",
     "output_type": "stream",
     "text": [
      "168.83333333333334\n"
     ]
    }
   ],
   "source": [
    "import statistics\n",
    "x = [123, 145, 165, 185, 190, 205]\n",
    "print(statistics.mean(x))"
   ]
  },
  {
   "attachments": {},
   "cell_type": "markdown",
   "metadata": {},
   "source": [
    "- Some important libraries:-  \n",
    "numpy, pandas, etc...."
   ]
  },
  {
   "attachments": {},
   "cell_type": "markdown",
   "metadata": {},
   "source": [
    " > ## Trouble Shooting :\n",
    "\n",
    " Errors and its types:-"
   ]
  },
  {
   "cell_type": "code",
   "execution_count": 11,
   "metadata": {},
   "outputs": [
    {
     "name": "stdout",
     "output_type": "stream",
     "text": [
      "we are learing python with Aammar\n"
     ]
    }
   ],
   "source": [
    "#  Syntax error----> missing qutation or commas etc \n",
    "# print(we are learing python ) #wrong\n",
    "\n",
    "print(\"we are learing python \") #correct\n"
   ]
  },
  {
   "cell_type": "code",
   "execution_count": 12,
   "metadata": {},
   "outputs": [
    {
     "name": "stdout",
     "output_type": "stream",
     "text": [
      "10.0\n"
     ]
    }
   ],
   "source": [
    "# Runtime error ----> mathematical error\n",
    "#example\n",
    "# print(20/0) #wrong\n",
    "\n",
    "print(20/2) #correct"
   ]
  },
  {
   "cell_type": "code",
   "execution_count": 20,
   "metadata": {},
   "outputs": [
    {
     "name": "stdout",
     "output_type": "stream",
     "text": [
      "Hello!  Akif\n"
     ]
    }
   ],
   "source": [
    "# logical or smentic error it is very dificult error. Bsically ye hamari apni ghalti hoti hai\n",
    "#example\n",
    "name= \"Akif\"\n",
    "# print(\"Hello name\") #wrong\n",
    " #correct  agr hmein space chaiye to , ka use krty hain na chaiye ho to + ka let's see\n",
    "print(\"Hello! \",name) # agr ap ko Hello or name k drmiyaan space nahi chaiye to + ka use krein comma ki jga"
   ]
  }
 ],
 "metadata": {
  "kernelspec": {
   "display_name": "py_env",
   "language": "python",
   "name": "python3"
  },
  "language_info": {
   "codemirror_mode": {
    "name": "ipython",
    "version": 3
   },
   "file_extension": ".py",
   "mimetype": "text/x-python",
   "name": "python",
   "nbconvert_exporter": "python",
   "pygments_lexer": "ipython3",
   "version": "3.11.5"
  },
  "orig_nbformat": 4
 },
 "nbformat": 4,
 "nbformat_minor": 2
}
